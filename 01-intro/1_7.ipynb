{
 "cells": [
  {
   "cell_type": "code",
   "execution_count": 1,
   "id": "4a3bd414-b796-4742-81ec-66c5060b1342",
   "metadata": {},
   "outputs": [],
   "source": [
    "import numpy as np"
   ]
  },
  {
   "cell_type": "code",
   "execution_count": 2,
   "id": "1024faa7-b97c-4963-9e49-10cc8bc1dc8d",
   "metadata": {},
   "outputs": [
    {
     "data": {
      "text/plain": [
       "<module 'numpy' from '/home/codespace/.local/lib/python3.12/site-packages/numpy/__init__.py'>"
      ]
     },
     "execution_count": 2,
     "metadata": {},
     "output_type": "execute_result"
    }
   ],
   "source": [
    "np"
   ]
  },
  {
   "cell_type": "code",
   "execution_count": 5,
   "id": "dc6397e1-8ff0-4dc3-871a-6163fb63e46f",
   "metadata": {},
   "outputs": [],
   "source": [
    "a = np.array([1, 3, 5, 7, 12])"
   ]
  },
  {
   "cell_type": "code",
   "execution_count": 6,
   "id": "c6a19e06-15bf-49e7-a1a1-fc8145251d36",
   "metadata": {},
   "outputs": [
    {
     "data": {
      "text/plain": [
       "np.int64(5)"
      ]
     },
     "execution_count": 6,
     "metadata": {},
     "output_type": "execute_result"
    }
   ],
   "source": [
    "a[2]"
   ]
  },
  {
   "cell_type": "code",
   "execution_count": 9,
   "id": "5f994502-73c2-43d0-a816-35cb270470a4",
   "metadata": {},
   "outputs": [],
   "source": [
    "n = np.array(\n",
    "    [\n",
    "        [1, 2, 3],\n",
    "        [4, 2, 7],\n",
    "        [3, 0, 9]\n",
    "    ]\n",
    ")"
   ]
  },
  {
   "cell_type": "code",
   "execution_count": 10,
   "id": "4d08faf7-fd26-4587-acfc-22fd024ed626",
   "metadata": {},
   "outputs": [
    {
     "data": {
      "text/plain": [
       "np.int64(4)"
      ]
     },
     "execution_count": 10,
     "metadata": {},
     "output_type": "execute_result"
    }
   ],
   "source": [
    "n[1, 0]"
   ]
  },
  {
   "cell_type": "code",
   "execution_count": null,
   "id": "b78a8110-9820-438f-a280-8a218bb12988",
   "metadata": {},
   "outputs": [],
   "source": []
  }
 ],
 "metadata": {
  "kernelspec": {
   "display_name": "Python 3 (ipykernel)",
   "language": "python",
   "name": "python3"
  },
  "language_info": {
   "codemirror_mode": {
    "name": "ipython",
    "version": 3
   },
   "file_extension": ".py",
   "mimetype": "text/x-python",
   "name": "python",
   "nbconvert_exporter": "python",
   "pygments_lexer": "ipython3",
   "version": "3.12.1"
  }
 },
 "nbformat": 4,
 "nbformat_minor": 5
}
